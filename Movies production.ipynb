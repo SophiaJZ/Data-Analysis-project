{
 "cells": [
  {
   "cell_type": "code",
   "execution_count": 1,
   "id": "f7e1f165",
   "metadata": {},
   "outputs": [],
   "source": [
    "import pandas as pd\n",
    "import matplotlib.pyplot as plt\n",
    "import seaborn as sns\n",
    "import sklearn.linear_model as LinearRegression"
   ]
  },
  {
   "cell_type": "code",
   "execution_count": 6,
   "id": "34b3a1b7",
   "metadata": {},
   "outputs": [],
   "source": [
    "data = pd.read_csv('E:/CV and Cover Letter/Data Analyst job/python challenges/Movie budget and profits/cost_revenue_dirty.csv')"
   ]
  },
  {
   "cell_type": "code",
   "execution_count": 8,
   "id": "e71cae1e",
   "metadata": {},
   "outputs": [
    {
     "data": {
      "text/html": [
       "<div>\n",
       "<style scoped>\n",
       "    .dataframe tbody tr th:only-of-type {\n",
       "        vertical-align: middle;\n",
       "    }\n",
       "\n",
       "    .dataframe tbody tr th {\n",
       "        vertical-align: top;\n",
       "    }\n",
       "\n",
       "    .dataframe thead th {\n",
       "        text-align: right;\n",
       "    }\n",
       "</style>\n",
       "<table border=\"1\" class=\"dataframe\">\n",
       "  <thead>\n",
       "    <tr style=\"text-align: right;\">\n",
       "      <th></th>\n",
       "      <th>Rank</th>\n",
       "      <th>Release_Date</th>\n",
       "      <th>Movie_Title</th>\n",
       "      <th>USD_Production_Budget</th>\n",
       "      <th>USD_Worldwide_Gross</th>\n",
       "      <th>USD_Domestic_Gross</th>\n",
       "    </tr>\n",
       "  </thead>\n",
       "  <tbody>\n",
       "    <tr>\n",
       "      <th>0</th>\n",
       "      <td>5293</td>\n",
       "      <td>8/2/1915</td>\n",
       "      <td>The Birth of a Nation</td>\n",
       "      <td>$110,000</td>\n",
       "      <td>$11,000,000</td>\n",
       "      <td>$10,000,000</td>\n",
       "    </tr>\n",
       "    <tr>\n",
       "      <th>1</th>\n",
       "      <td>5140</td>\n",
       "      <td>5/9/1916</td>\n",
       "      <td>Intolerance</td>\n",
       "      <td>$385,907</td>\n",
       "      <td>$0</td>\n",
       "      <td>$0</td>\n",
       "    </tr>\n",
       "    <tr>\n",
       "      <th>2</th>\n",
       "      <td>5230</td>\n",
       "      <td>12/24/1916</td>\n",
       "      <td>20,000 Leagues Under the Sea</td>\n",
       "      <td>$200,000</td>\n",
       "      <td>$8,000,000</td>\n",
       "      <td>$8,000,000</td>\n",
       "    </tr>\n",
       "    <tr>\n",
       "      <th>3</th>\n",
       "      <td>5299</td>\n",
       "      <td>9/17/1920</td>\n",
       "      <td>Over the Hill to the Poorhouse</td>\n",
       "      <td>$100,000</td>\n",
       "      <td>$3,000,000</td>\n",
       "      <td>$3,000,000</td>\n",
       "    </tr>\n",
       "    <tr>\n",
       "      <th>4</th>\n",
       "      <td>5222</td>\n",
       "      <td>1/1/1925</td>\n",
       "      <td>The Big Parade</td>\n",
       "      <td>$245,000</td>\n",
       "      <td>$22,000,000</td>\n",
       "      <td>$11,000,000</td>\n",
       "    </tr>\n",
       "  </tbody>\n",
       "</table>\n",
       "</div>"
      ],
      "text/plain": [
       "   Rank Release_Date                     Movie_Title USD_Production_Budget  \\\n",
       "0  5293     8/2/1915           The Birth of a Nation             $110,000    \n",
       "1  5140     5/9/1916                     Intolerance             $385,907    \n",
       "2  5230   12/24/1916    20,000 Leagues Under the Sea             $200,000    \n",
       "3  5299    9/17/1920  Over the Hill to the Poorhouse             $100,000    \n",
       "4  5222     1/1/1925                  The Big Parade             $245,000    \n",
       "\n",
       "  USD_Worldwide_Gross USD_Domestic_Gross  \n",
       "0        $11,000,000        $10,000,000   \n",
       "1                 $0                 $0   \n",
       "2         $8,000,000         $8,000,000   \n",
       "3         $3,000,000         $3,000,000   \n",
       "4        $22,000,000        $11,000,000   "
      ]
     },
     "execution_count": 8,
     "metadata": {},
     "output_type": "execute_result"
    }
   ],
   "source": [
    "data.head()"
   ]
  },
  {
   "cell_type": "code",
   "execution_count": 9,
   "id": "17d739f8",
   "metadata": {},
   "outputs": [
    {
     "data": {
      "text/plain": [
       "(5391, 6)"
      ]
     },
     "execution_count": 9,
     "metadata": {},
     "output_type": "execute_result"
    }
   ],
   "source": [
    "data.shape"
   ]
  },
  {
   "cell_type": "code",
   "execution_count": 12,
   "id": "c6e2fb4f",
   "metadata": {},
   "outputs": [
    {
     "data": {
      "text/plain": [
       "Rank                     0\n",
       "Release_Date             0\n",
       "Movie_Title              0\n",
       "USD_Production_Budget    0\n",
       "USD_Worldwide_Gross      0\n",
       "USD_Domestic_Gross       0\n",
       "dtype: int64"
      ]
     },
     "execution_count": 12,
     "metadata": {},
     "output_type": "execute_result"
    }
   ],
   "source": [
    "data.isna().sum()"
   ]
  },
  {
   "cell_type": "code",
   "execution_count": 11,
   "id": "4049e7a8",
   "metadata": {},
   "outputs": [
    {
     "name": "stdout",
     "output_type": "stream",
     "text": [
      "<class 'pandas.core.frame.DataFrame'>\n",
      "RangeIndex: 5391 entries, 0 to 5390\n",
      "Data columns (total 6 columns):\n",
      " #   Column                 Non-Null Count  Dtype \n",
      "---  ------                 --------------  ----- \n",
      " 0   Rank                   5391 non-null   int64 \n",
      " 1   Release_Date           5391 non-null   object\n",
      " 2   Movie_Title            5391 non-null   object\n",
      " 3   USD_Production_Budget  5391 non-null   object\n",
      " 4   USD_Worldwide_Gross    5391 non-null   object\n",
      " 5   USD_Domestic_Gross     5391 non-null   object\n",
      "dtypes: int64(1), object(5)\n",
      "memory usage: 252.8+ KB\n"
     ]
    }
   ],
   "source": [
    "data.info()"
   ]
  },
  {
   "cell_type": "code",
   "execution_count": 14,
   "id": "e21b6467",
   "metadata": {},
   "outputs": [
    {
     "data": {
      "text/plain": [
       "0"
      ]
     },
     "execution_count": 14,
     "metadata": {},
     "output_type": "execute_result"
    }
   ],
   "source": [
    "data.duplicated().sum()"
   ]
  },
  {
   "cell_type": "code",
   "execution_count": 19,
   "id": "2c537c20",
   "metadata": {},
   "outputs": [
    {
     "name": "stderr",
     "output_type": "stream",
     "text": [
      "C:\\Users\\sophia\\AppData\\Local\\Temp\\ipykernel_31364\\1330958298.py:1: FutureWarning: The default value of regex will change from True to False in a future version. In addition, single character regular expressions will *not* be treated as literal strings when regex=True.\n",
      "  data.USD_Production_Budget = data.USD_Production_Budget.astype(str).str.replace('$','').str.replace(',','')\n"
     ]
    },
    {
     "data": {
      "text/plain": [
       "dtype('int64')"
      ]
     },
     "execution_count": 19,
     "metadata": {},
     "output_type": "execute_result"
    }
   ],
   "source": [
    "#COnverting amount of dollar to integer/numeric\n",
    "data.USD_Production_Budget = data.USD_Production_Budget.astype(str).str.replace('$','').str.replace(',','')\n",
    "data.USD_Production_Budget = pd.to_numeric(data.USD_Production_Budget)\n",
    "data.USD_Production_Budget.dtype"
   ]
  },
  {
   "cell_type": "code",
   "execution_count": 21,
   "id": "cd117091",
   "metadata": {},
   "outputs": [
    {
     "name": "stderr",
     "output_type": "stream",
     "text": [
      "C:\\Users\\sophia\\AppData\\Local\\Temp\\ipykernel_31364\\2693271491.py:1: FutureWarning: The default value of regex will change from True to False in a future version. In addition, single character regular expressions will *not* be treated as literal strings when regex=True.\n",
      "  data.USD_Worldwide_Gross = data.USD_Worldwide_Gross.astype(str).str.replace('$','').str.replace(',','')\n"
     ]
    },
    {
     "data": {
      "text/plain": [
       "dtype('int64')"
      ]
     },
     "execution_count": 21,
     "metadata": {},
     "output_type": "execute_result"
    }
   ],
   "source": [
    "data.USD_Worldwide_Gross = data.USD_Worldwide_Gross.astype(str).str.replace('$','').str.replace(',','')\n",
    "data.USD_Worldwide_Gross = pd.to_numeric(data.USD_Worldwide_Gross)\n",
    "data.USD_Worldwide_Gross.dtype"
   ]
  },
  {
   "cell_type": "code",
   "execution_count": 22,
   "id": "413832db",
   "metadata": {},
   "outputs": [
    {
     "name": "stderr",
     "output_type": "stream",
     "text": [
      "C:\\Users\\sophia\\AppData\\Local\\Temp\\ipykernel_31364\\3434484960.py:1: FutureWarning: The default value of regex will change from True to False in a future version. In addition, single character regular expressions will *not* be treated as literal strings when regex=True.\n",
      "  data.USD_Domestic_Gross = data.USD_Domestic_Gross.astype(str).str.replace('$','').str.replace(',','')\n"
     ]
    },
    {
     "data": {
      "text/plain": [
       "dtype('int64')"
      ]
     },
     "execution_count": 22,
     "metadata": {},
     "output_type": "execute_result"
    }
   ],
   "source": [
    "data.USD_Domestic_Gross = data.USD_Domestic_Gross.astype(str).str.replace('$','').str.replace(',','')\n",
    "data.USD_Domestic_Gross = pd.to_numeric(data.USD_Domestic_Gross)\n",
    "data.USD_Domestic_Gross.dtype"
   ]
  },
  {
   "cell_type": "code",
   "execution_count": 23,
   "id": "bd9abcf4",
   "metadata": {},
   "outputs": [],
   "source": [
    "#Convert date to datetime format\n",
    "data.Release_Date = pd.to_datetime(data.Release_Date)"
   ]
  },
  {
   "cell_type": "code",
   "execution_count": 24,
   "id": "2c8dad92",
   "metadata": {},
   "outputs": [
    {
     "data": {
      "text/plain": [
       "dtype('<M8[ns]')"
      ]
     },
     "execution_count": 24,
     "metadata": {},
     "output_type": "execute_result"
    }
   ],
   "source": [
    "data.Release_Date.dtype"
   ]
  },
  {
   "cell_type": "code",
   "execution_count": 25,
   "id": "4ec99fd1",
   "metadata": {},
   "outputs": [
    {
     "name": "stdout",
     "output_type": "stream",
     "text": [
      "<class 'pandas.core.frame.DataFrame'>\n",
      "RangeIndex: 5391 entries, 0 to 5390\n",
      "Data columns (total 6 columns):\n",
      " #   Column                 Non-Null Count  Dtype         \n",
      "---  ------                 --------------  -----         \n",
      " 0   Rank                   5391 non-null   int64         \n",
      " 1   Release_Date           5391 non-null   datetime64[ns]\n",
      " 2   Movie_Title            5391 non-null   object        \n",
      " 3   USD_Production_Budget  5391 non-null   int64         \n",
      " 4   USD_Worldwide_Gross    5391 non-null   int64         \n",
      " 5   USD_Domestic_Gross     5391 non-null   int64         \n",
      "dtypes: datetime64[ns](1), int64(4), object(1)\n",
      "memory usage: 252.8+ KB\n"
     ]
    }
   ],
   "source": [
    "data.info()"
   ]
  },
  {
   "cell_type": "code",
   "execution_count": 27,
   "id": "616bab16",
   "metadata": {},
   "outputs": [
    {
     "data": {
      "text/plain": [
       "31113737.57837136"
      ]
     },
     "execution_count": 27,
     "metadata": {},
     "output_type": "execute_result"
    }
   ],
   "source": [
    "#Count the average of production budget of the films\n",
    "production_budget_average = data.USD_Production_Budget.mean()\n",
    "production_budget_average "
   ]
  },
  {
   "cell_type": "code",
   "execution_count": 29,
   "id": "efe0c8f3",
   "metadata": {},
   "outputs": [
    {
     "data": {
      "text/html": [
       "<div>\n",
       "<style scoped>\n",
       "    .dataframe tbody tr th:only-of-type {\n",
       "        vertical-align: middle;\n",
       "    }\n",
       "\n",
       "    .dataframe tbody tr th {\n",
       "        vertical-align: top;\n",
       "    }\n",
       "\n",
       "    .dataframe thead th {\n",
       "        text-align: right;\n",
       "    }\n",
       "</style>\n",
       "<table border=\"1\" class=\"dataframe\">\n",
       "  <thead>\n",
       "    <tr style=\"text-align: right;\">\n",
       "      <th></th>\n",
       "      <th>Rank</th>\n",
       "      <th>USD_Production_Budget</th>\n",
       "      <th>USD_Worldwide_Gross</th>\n",
       "      <th>USD_Domestic_Gross</th>\n",
       "    </tr>\n",
       "  </thead>\n",
       "  <tbody>\n",
       "    <tr>\n",
       "      <th>count</th>\n",
       "      <td>5391.000000</td>\n",
       "      <td>5.391000e+03</td>\n",
       "      <td>5.391000e+03</td>\n",
       "      <td>5.391000e+03</td>\n",
       "    </tr>\n",
       "    <tr>\n",
       "      <th>mean</th>\n",
       "      <td>2696.000000</td>\n",
       "      <td>3.111374e+07</td>\n",
       "      <td>8.885542e+07</td>\n",
       "      <td>4.123552e+07</td>\n",
       "    </tr>\n",
       "    <tr>\n",
       "      <th>std</th>\n",
       "      <td>1556.391981</td>\n",
       "      <td>4.052380e+07</td>\n",
       "      <td>1.684578e+08</td>\n",
       "      <td>6.602935e+07</td>\n",
       "    </tr>\n",
       "    <tr>\n",
       "      <th>min</th>\n",
       "      <td>1.000000</td>\n",
       "      <td>1.100000e+03</td>\n",
       "      <td>0.000000e+00</td>\n",
       "      <td>0.000000e+00</td>\n",
       "    </tr>\n",
       "    <tr>\n",
       "      <th>25%</th>\n",
       "      <td>1348.500000</td>\n",
       "      <td>5.000000e+06</td>\n",
       "      <td>3.865206e+06</td>\n",
       "      <td>1.330902e+06</td>\n",
       "    </tr>\n",
       "    <tr>\n",
       "      <th>50%</th>\n",
       "      <td>2696.000000</td>\n",
       "      <td>1.700000e+07</td>\n",
       "      <td>2.745045e+07</td>\n",
       "      <td>1.719220e+07</td>\n",
       "    </tr>\n",
       "    <tr>\n",
       "      <th>75%</th>\n",
       "      <td>4043.500000</td>\n",
       "      <td>4.000000e+07</td>\n",
       "      <td>9.645446e+07</td>\n",
       "      <td>5.234369e+07</td>\n",
       "    </tr>\n",
       "    <tr>\n",
       "      <th>max</th>\n",
       "      <td>5391.000000</td>\n",
       "      <td>4.250000e+08</td>\n",
       "      <td>2.783919e+09</td>\n",
       "      <td>9.366622e+08</td>\n",
       "    </tr>\n",
       "  </tbody>\n",
       "</table>\n",
       "</div>"
      ],
      "text/plain": [
       "              Rank  USD_Production_Budget  USD_Worldwide_Gross  \\\n",
       "count  5391.000000           5.391000e+03         5.391000e+03   \n",
       "mean   2696.000000           3.111374e+07         8.885542e+07   \n",
       "std    1556.391981           4.052380e+07         1.684578e+08   \n",
       "min       1.000000           1.100000e+03         0.000000e+00   \n",
       "25%    1348.500000           5.000000e+06         3.865206e+06   \n",
       "50%    2696.000000           1.700000e+07         2.745045e+07   \n",
       "75%    4043.500000           4.000000e+07         9.645446e+07   \n",
       "max    5391.000000           4.250000e+08         2.783919e+09   \n",
       "\n",
       "       USD_Domestic_Gross  \n",
       "count        5.391000e+03  \n",
       "mean         4.123552e+07  \n",
       "std          6.602935e+07  \n",
       "min          0.000000e+00  \n",
       "25%          1.330902e+06  \n",
       "50%          1.719220e+07  \n",
       "75%          5.234369e+07  \n",
       "max          9.366622e+08  "
      ]
     },
     "execution_count": 29,
     "metadata": {},
     "output_type": "execute_result"
    }
   ],
   "source": [
    "data.describe()"
   ]
  },
  {
   "cell_type": "code",
   "execution_count": null,
   "id": "7efb2aa5",
   "metadata": {},
   "outputs": [],
   "source": [
    "''''It's shown the total and the average production budget, avg worldwide gross revenue and avg of domestic gross\n",
    "It's shown the lowest and the highest production films made\n",
    "-The average film costs about 31m dollars to make and makes around 3x that (or ~89m dollars) in worldwide revenue. So that's encouraging.\n",
    "-But quite a lot of films lose money too. In fact, all the films in the bottom quartile lose money, since the average cost is 5 million dollars and they only bring in 3.8m dolllars in worldwide revenue!\n",
    "-The minimum domestic and worldwide revenue is 0 dollar. That makes sense. If a film never gets screened or is cancelled, then this is the number we would expect to see here.\n",
    "-On the other hand, the highest production budget was 425,000,000 dollars and the highest worldwide revenue was 2,783,918,982 dollars. 2.7 Billion dollars revenue!"
   ]
  },
  {
   "cell_type": "code",
   "execution_count": 30,
   "id": "573c5a2b",
   "metadata": {},
   "outputs": [
    {
     "data": {
      "text/plain": [
       "1100"
      ]
     },
     "execution_count": 30,
     "metadata": {},
     "output_type": "execute_result"
    }
   ],
   "source": [
    "#The lowest budget film\n",
    "data.USD_Production_Budget.min()"
   ]
  },
  {
   "cell_type": "code",
   "execution_count": 33,
   "id": "f339ae6e",
   "metadata": {},
   "outputs": [
    {
     "data": {
      "text/plain": [
       "Rank                                    5391\n",
       "Release_Date             2005-05-08 00:00:00\n",
       "Movie_Title                My Date With Drew\n",
       "USD_Production_Budget                   1100\n",
       "USD_Worldwide_Gross                   181041\n",
       "USD_Domestic_Gross                    181041\n",
       "Name: 2427, dtype: object"
      ]
     },
     "execution_count": 33,
     "metadata": {},
     "output_type": "execute_result"
    }
   ],
   "source": [
    "data.loc[data.USD_Production_Budget.idxmin()]"
   ]
  },
  {
   "cell_type": "code",
   "execution_count": 34,
   "id": "6292e13d",
   "metadata": {},
   "outputs": [
    {
     "data": {
      "text/html": [
       "<div>\n",
       "<style scoped>\n",
       "    .dataframe tbody tr th:only-of-type {\n",
       "        vertical-align: middle;\n",
       "    }\n",
       "\n",
       "    .dataframe tbody tr th {\n",
       "        vertical-align: top;\n",
       "    }\n",
       "\n",
       "    .dataframe thead th {\n",
       "        text-align: right;\n",
       "    }\n",
       "</style>\n",
       "<table border=\"1\" class=\"dataframe\">\n",
       "  <thead>\n",
       "    <tr style=\"text-align: right;\">\n",
       "      <th></th>\n",
       "      <th>Rank</th>\n",
       "      <th>Release_Date</th>\n",
       "      <th>Movie_Title</th>\n",
       "      <th>USD_Production_Budget</th>\n",
       "      <th>USD_Worldwide_Gross</th>\n",
       "      <th>USD_Domestic_Gross</th>\n",
       "    </tr>\n",
       "  </thead>\n",
       "  <tbody>\n",
       "    <tr>\n",
       "      <th>2427</th>\n",
       "      <td>5391</td>\n",
       "      <td>2005-05-08</td>\n",
       "      <td>My Date With Drew</td>\n",
       "      <td>1100</td>\n",
       "      <td>181041</td>\n",
       "      <td>181041</td>\n",
       "    </tr>\n",
       "  </tbody>\n",
       "</table>\n",
       "</div>"
      ],
      "text/plain": [
       "      Rank Release_Date        Movie_Title  USD_Production_Budget  \\\n",
       "2427  5391   2005-05-08  My Date With Drew                   1100   \n",
       "\n",
       "      USD_Worldwide_Gross  USD_Domestic_Gross  \n",
       "2427               181041              181041  "
      ]
     },
     "execution_count": 34,
     "metadata": {},
     "output_type": "execute_result"
    }
   ],
   "source": [
    "data.loc[data.USD_Production_Budget.idxmin():data.USD_Production_Budget.idxmin()]"
   ]
  },
  {
   "cell_type": "code",
   "execution_count": 37,
   "id": "a3022743",
   "metadata": {},
   "outputs": [
    {
     "data": {
      "text/html": [
       "<div>\n",
       "<style scoped>\n",
       "    .dataframe tbody tr th:only-of-type {\n",
       "        vertical-align: middle;\n",
       "    }\n",
       "\n",
       "    .dataframe tbody tr th {\n",
       "        vertical-align: top;\n",
       "    }\n",
       "\n",
       "    .dataframe thead th {\n",
       "        text-align: right;\n",
       "    }\n",
       "</style>\n",
       "<table border=\"1\" class=\"dataframe\">\n",
       "  <thead>\n",
       "    <tr style=\"text-align: right;\">\n",
       "      <th></th>\n",
       "      <th>Rank</th>\n",
       "      <th>Release_Date</th>\n",
       "      <th>Movie_Title</th>\n",
       "      <th>USD_Production_Budget</th>\n",
       "      <th>USD_Worldwide_Gross</th>\n",
       "      <th>USD_Domestic_Gross</th>\n",
       "    </tr>\n",
       "  </thead>\n",
       "  <tbody>\n",
       "    <tr>\n",
       "      <th>3529</th>\n",
       "      <td>1</td>\n",
       "      <td>2009-12-18</td>\n",
       "      <td>Avatar</td>\n",
       "      <td>425000000</td>\n",
       "      <td>2783918982</td>\n",
       "      <td>760507625</td>\n",
       "    </tr>\n",
       "  </tbody>\n",
       "</table>\n",
       "</div>"
      ],
      "text/plain": [
       "      Rank Release_Date Movie_Title  USD_Production_Budget  \\\n",
       "3529     1   2009-12-18      Avatar              425000000   \n",
       "\n",
       "      USD_Worldwide_Gross  USD_Domestic_Gross  \n",
       "3529           2783918982           760507625  "
      ]
     },
     "execution_count": 37,
     "metadata": {},
     "output_type": "execute_result"
    }
   ],
   "source": [
    "#The highest budget film\n",
    "data.loc[data.USD_Production_Budget.idxmax():data.USD_Production_Budget.idxmax()]"
   ]
  },
  {
   "cell_type": "code",
   "execution_count": null,
   "id": "bf342c7a",
   "metadata": {
    "collapsed": true
   },
   "outputs": [],
   "source": [
    "#Investigating the Zero Revenue Films\n",
    "# How many films domestically gross with $0? what are the highest budget films with $0 gross\n"
   ]
  },
  {
   "cell_type": "code",
   "execution_count": 38,
   "id": "7abf86ec",
   "metadata": {},
   "outputs": [
    {
     "data": {
      "text/html": [
       "<div>\n",
       "<style scoped>\n",
       "    .dataframe tbody tr th:only-of-type {\n",
       "        vertical-align: middle;\n",
       "    }\n",
       "\n",
       "    .dataframe tbody tr th {\n",
       "        vertical-align: top;\n",
       "    }\n",
       "\n",
       "    .dataframe thead th {\n",
       "        text-align: right;\n",
       "    }\n",
       "</style>\n",
       "<table border=\"1\" class=\"dataframe\">\n",
       "  <thead>\n",
       "    <tr style=\"text-align: right;\">\n",
       "      <th></th>\n",
       "      <th>Rank</th>\n",
       "      <th>Release_Date</th>\n",
       "      <th>Movie_Title</th>\n",
       "      <th>USD_Production_Budget</th>\n",
       "      <th>USD_Worldwide_Gross</th>\n",
       "      <th>USD_Domestic_Gross</th>\n",
       "    </tr>\n",
       "  </thead>\n",
       "  <tbody>\n",
       "    <tr>\n",
       "      <th>1</th>\n",
       "      <td>5140</td>\n",
       "      <td>1916-05-09</td>\n",
       "      <td>Intolerance</td>\n",
       "      <td>385907</td>\n",
       "      <td>0</td>\n",
       "      <td>0</td>\n",
       "    </tr>\n",
       "    <tr>\n",
       "      <th>6</th>\n",
       "      <td>4630</td>\n",
       "      <td>1927-12-08</td>\n",
       "      <td>Wings</td>\n",
       "      <td>2000000</td>\n",
       "      <td>0</td>\n",
       "      <td>0</td>\n",
       "    </tr>\n",
       "    <tr>\n",
       "      <th>8</th>\n",
       "      <td>4240</td>\n",
       "      <td>1930-01-01</td>\n",
       "      <td>Hell's Angels</td>\n",
       "      <td>4000000</td>\n",
       "      <td>0</td>\n",
       "      <td>0</td>\n",
       "    </tr>\n",
       "    <tr>\n",
       "      <th>17</th>\n",
       "      <td>4814</td>\n",
       "      <td>1936-10-20</td>\n",
       "      <td>Charge of the Light Brigade, The</td>\n",
       "      <td>1200000</td>\n",
       "      <td>0</td>\n",
       "      <td>0</td>\n",
       "    </tr>\n",
       "    <tr>\n",
       "      <th>27</th>\n",
       "      <td>4789</td>\n",
       "      <td>1941-10-28</td>\n",
       "      <td>How Green Was My Valley</td>\n",
       "      <td>1250000</td>\n",
       "      <td>0</td>\n",
       "      <td>0</td>\n",
       "    </tr>\n",
       "    <tr>\n",
       "      <th>...</th>\n",
       "      <td>...</td>\n",
       "      <td>...</td>\n",
       "      <td>...</td>\n",
       "      <td>...</td>\n",
       "      <td>...</td>\n",
       "      <td>...</td>\n",
       "    </tr>\n",
       "    <tr>\n",
       "      <th>5386</th>\n",
       "      <td>2950</td>\n",
       "      <td>2018-10-08</td>\n",
       "      <td>Meg</td>\n",
       "      <td>15000000</td>\n",
       "      <td>0</td>\n",
       "      <td>0</td>\n",
       "    </tr>\n",
       "    <tr>\n",
       "      <th>5387</th>\n",
       "      <td>126</td>\n",
       "      <td>2018-12-18</td>\n",
       "      <td>Aquaman</td>\n",
       "      <td>160000000</td>\n",
       "      <td>0</td>\n",
       "      <td>0</td>\n",
       "    </tr>\n",
       "    <tr>\n",
       "      <th>5388</th>\n",
       "      <td>96</td>\n",
       "      <td>2020-12-31</td>\n",
       "      <td>Singularity</td>\n",
       "      <td>175000000</td>\n",
       "      <td>0</td>\n",
       "      <td>0</td>\n",
       "    </tr>\n",
       "    <tr>\n",
       "      <th>5389</th>\n",
       "      <td>1119</td>\n",
       "      <td>2020-12-31</td>\n",
       "      <td>Hannibal the Conqueror</td>\n",
       "      <td>50000000</td>\n",
       "      <td>0</td>\n",
       "      <td>0</td>\n",
       "    </tr>\n",
       "    <tr>\n",
       "      <th>5390</th>\n",
       "      <td>2517</td>\n",
       "      <td>2020-12-31</td>\n",
       "      <td>Story of Bonnie and Clyde, The</td>\n",
       "      <td>20000000</td>\n",
       "      <td>0</td>\n",
       "      <td>0</td>\n",
       "    </tr>\n",
       "  </tbody>\n",
       "</table>\n",
       "<p>512 rows × 6 columns</p>\n",
       "</div>"
      ],
      "text/plain": [
       "      Rank Release_Date                       Movie_Title  \\\n",
       "1     5140   1916-05-09                       Intolerance   \n",
       "6     4630   1927-12-08                             Wings   \n",
       "8     4240   1930-01-01                     Hell's Angels   \n",
       "17    4814   1936-10-20  Charge of the Light Brigade, The   \n",
       "27    4789   1941-10-28           How Green Was My Valley   \n",
       "...    ...          ...                               ...   \n",
       "5386  2950   2018-10-08                               Meg   \n",
       "5387   126   2018-12-18                           Aquaman   \n",
       "5388    96   2020-12-31                       Singularity   \n",
       "5389  1119   2020-12-31            Hannibal the Conqueror   \n",
       "5390  2517   2020-12-31    Story of Bonnie and Clyde, The   \n",
       "\n",
       "      USD_Production_Budget  USD_Worldwide_Gross  USD_Domestic_Gross  \n",
       "1                    385907                    0                   0  \n",
       "6                   2000000                    0                   0  \n",
       "8                   4000000                    0                   0  \n",
       "17                  1200000                    0                   0  \n",
       "27                  1250000                    0                   0  \n",
       "...                     ...                  ...                 ...  \n",
       "5386               15000000                    0                   0  \n",
       "5387              160000000                    0                   0  \n",
       "5388              175000000                    0                   0  \n",
       "5389               50000000                    0                   0  \n",
       "5390               20000000                    0                   0  \n",
       "\n",
       "[512 rows x 6 columns]"
      ]
     },
     "execution_count": 38,
     "metadata": {},
     "output_type": "execute_result"
    }
   ],
   "source": [
    "data[data.USD_Domestic_Gross == 0]"
   ]
  },
  {
   "cell_type": "code",
   "execution_count": 39,
   "id": "529f4015",
   "metadata": {},
   "outputs": [
    {
     "data": {
      "text/plain": [
       "Rank                     512\n",
       "Release_Date             512\n",
       "Movie_Title              512\n",
       "USD_Production_Budget    512\n",
       "USD_Worldwide_Gross      512\n",
       "USD_Domestic_Gross       512\n",
       "dtype: int64"
      ]
     },
     "execution_count": 39,
     "metadata": {},
     "output_type": "execute_result"
    }
   ],
   "source": [
    "data[data.USD_Domestic_Gross == 0].count()"
   ]
  },
  {
   "cell_type": "code",
   "execution_count": 41,
   "id": "81c1b6aa",
   "metadata": {},
   "outputs": [
    {
     "data": {
      "text/plain": [
       "512"
      ]
     },
     "execution_count": 41,
     "metadata": {},
     "output_type": "execute_result"
    }
   ],
   "source": [
    "data[data.USD_Domestic_Gross == 0].USD_Domestic_Gross.count()"
   ]
  },
  {
   "cell_type": "raw",
   "id": "7d94621f",
   "metadata": {},
   "source": [
    "print('There are',f' {data[data.USD_Domestic_Gross == 0].USD_Domestic_Gross.count()} films $0 domesticly')"
   ]
  },
  {
   "cell_type": "code",
   "execution_count": 46,
   "id": "36a44333",
   "metadata": {},
   "outputs": [
    {
     "name": "stdout",
     "output_type": "stream",
     "text": [
      "There are  512 films $0 gross domesticly\n"
     ]
    }
   ],
   "source": [
    "print('There are',f' {data[data.USD_Domestic_Gross == 0].USD_Domestic_Gross.count()} films $0 gross domesticly')"
   ]
  },
  {
   "cell_type": "code",
   "execution_count": 50,
   "id": "62071369",
   "metadata": {},
   "outputs": [
    {
     "data": {
      "text/html": [
       "<div>\n",
       "<style scoped>\n",
       "    .dataframe tbody tr th:only-of-type {\n",
       "        vertical-align: middle;\n",
       "    }\n",
       "\n",
       "    .dataframe tbody tr th {\n",
       "        vertical-align: top;\n",
       "    }\n",
       "\n",
       "    .dataframe thead th {\n",
       "        text-align: right;\n",
       "    }\n",
       "</style>\n",
       "<table border=\"1\" class=\"dataframe\">\n",
       "  <thead>\n",
       "    <tr style=\"text-align: right;\">\n",
       "      <th></th>\n",
       "      <th>Rank</th>\n",
       "      <th>Release_Date</th>\n",
       "      <th>Movie_Title</th>\n",
       "      <th>USD_Production_Budget</th>\n",
       "      <th>USD_Worldwide_Gross</th>\n",
       "      <th>USD_Domestic_Gross</th>\n",
       "    </tr>\n",
       "  </thead>\n",
       "  <tbody>\n",
       "    <tr>\n",
       "      <th>5388</th>\n",
       "      <td>96</td>\n",
       "      <td>2020-12-31</td>\n",
       "      <td>Singularity</td>\n",
       "      <td>175000000</td>\n",
       "      <td>0</td>\n",
       "      <td>0</td>\n",
       "    </tr>\n",
       "    <tr>\n",
       "      <th>5387</th>\n",
       "      <td>126</td>\n",
       "      <td>2018-12-18</td>\n",
       "      <td>Aquaman</td>\n",
       "      <td>160000000</td>\n",
       "      <td>0</td>\n",
       "      <td>0</td>\n",
       "    </tr>\n",
       "    <tr>\n",
       "      <th>5384</th>\n",
       "      <td>321</td>\n",
       "      <td>2018-09-03</td>\n",
       "      <td>A Wrinkle in Time</td>\n",
       "      <td>103000000</td>\n",
       "      <td>0</td>\n",
       "      <td>0</td>\n",
       "    </tr>\n",
       "  </tbody>\n",
       "</table>\n",
       "</div>"
      ],
      "text/plain": [
       "      Rank Release_Date        Movie_Title  USD_Production_Budget  \\\n",
       "5388    96   2020-12-31        Singularity              175000000   \n",
       "5387   126   2018-12-18            Aquaman              160000000   \n",
       "5384   321   2018-09-03  A Wrinkle in Time              103000000   \n",
       "\n",
       "      USD_Worldwide_Gross  USD_Domestic_Gross  \n",
       "5388                    0                   0  \n",
       "5387                    0                   0  \n",
       "5384                    0                   0  "
      ]
     },
     "execution_count": 50,
     "metadata": {},
     "output_type": "execute_result"
    }
   ],
   "source": [
    "#what are the highest budget films with $0 gross\n",
    "data[data.USD_Domestic_Gross == 0].sort_values('USD_Production_Budget', ascending = False).head(3)"
   ]
  },
  {
   "cell_type": "code",
   "execution_count": null,
   "id": "0829b6ec",
   "metadata": {},
   "outputs": [],
   "source": [
    "#How many films grossed $0 worldwide? What are the highest budget films that had no revenue internationally?"
   ]
  },
  {
   "cell_type": "code",
   "execution_count": 52,
   "id": "be350de1",
   "metadata": {},
   "outputs": [
    {
     "data": {
      "text/plain": [
       "357"
      ]
     },
     "execution_count": 52,
     "metadata": {},
     "output_type": "execute_result"
    }
   ],
   "source": [
    "data[data.USD_Worldwide_Gross == 0].USD_Worldwide_Gross.count()"
   ]
  },
  {
   "cell_type": "code",
   "execution_count": 54,
   "id": "121bc038",
   "metadata": {},
   "outputs": [
    {
     "name": "stdout",
     "output_type": "stream",
     "text": [
      "357 films with $0 gross international\n"
     ]
    }
   ],
   "source": [
    "print(f'{data[data.USD_Worldwide_Gross == 0].USD_Worldwide_Gross.count()} films with $0 gross international')"
   ]
  },
  {
   "cell_type": "code",
   "execution_count": 57,
   "id": "92a6c65b",
   "metadata": {},
   "outputs": [
    {
     "data": {
      "text/html": [
       "<div>\n",
       "<style scoped>\n",
       "    .dataframe tbody tr th:only-of-type {\n",
       "        vertical-align: middle;\n",
       "    }\n",
       "\n",
       "    .dataframe tbody tr th {\n",
       "        vertical-align: top;\n",
       "    }\n",
       "\n",
       "    .dataframe thead th {\n",
       "        text-align: right;\n",
       "    }\n",
       "</style>\n",
       "<table border=\"1\" class=\"dataframe\">\n",
       "  <thead>\n",
       "    <tr style=\"text-align: right;\">\n",
       "      <th></th>\n",
       "      <th>Rank</th>\n",
       "      <th>Release_Date</th>\n",
       "      <th>Movie_Title</th>\n",
       "      <th>USD_Production_Budget</th>\n",
       "      <th>USD_Worldwide_Gross</th>\n",
       "      <th>USD_Domestic_Gross</th>\n",
       "    </tr>\n",
       "  </thead>\n",
       "  <tbody>\n",
       "    <tr>\n",
       "      <th>71</th>\n",
       "      <td>4310</td>\n",
       "      <td>1956-02-16</td>\n",
       "      <td>Carousel</td>\n",
       "      <td>3380000</td>\n",
       "      <td>3220</td>\n",
       "      <td>0</td>\n",
       "    </tr>\n",
       "    <tr>\n",
       "      <th>1579</th>\n",
       "      <td>5087</td>\n",
       "      <td>2001-02-11</td>\n",
       "      <td>Everything Put Together</td>\n",
       "      <td>500000</td>\n",
       "      <td>7890</td>\n",
       "      <td>0</td>\n",
       "    </tr>\n",
       "    <tr>\n",
       "      <th>1744</th>\n",
       "      <td>3695</td>\n",
       "      <td>2001-12-31</td>\n",
       "      <td>The Hole</td>\n",
       "      <td>7500000</td>\n",
       "      <td>10834406</td>\n",
       "      <td>0</td>\n",
       "    </tr>\n",
       "    <tr>\n",
       "      <th>2155</th>\n",
       "      <td>4236</td>\n",
       "      <td>2003-12-31</td>\n",
       "      <td>Nothing</td>\n",
       "      <td>4000000</td>\n",
       "      <td>63180</td>\n",
       "      <td>0</td>\n",
       "    </tr>\n",
       "    <tr>\n",
       "      <th>2203</th>\n",
       "      <td>2513</td>\n",
       "      <td>2004-03-31</td>\n",
       "      <td>The Touch</td>\n",
       "      <td>20000000</td>\n",
       "      <td>5918742</td>\n",
       "      <td>0</td>\n",
       "    </tr>\n",
       "    <tr>\n",
       "      <th>...</th>\n",
       "      <td>...</td>\n",
       "      <td>...</td>\n",
       "      <td>...</td>\n",
       "      <td>...</td>\n",
       "      <td>...</td>\n",
       "      <td>...</td>\n",
       "    </tr>\n",
       "    <tr>\n",
       "      <th>5340</th>\n",
       "      <td>1506</td>\n",
       "      <td>2017-04-14</td>\n",
       "      <td>Queen of the Desert</td>\n",
       "      <td>36000000</td>\n",
       "      <td>1480089</td>\n",
       "      <td>0</td>\n",
       "    </tr>\n",
       "    <tr>\n",
       "      <th>5348</th>\n",
       "      <td>2225</td>\n",
       "      <td>2017-05-05</td>\n",
       "      <td>Chāi dàn zhuānjiā</td>\n",
       "      <td>23000000</td>\n",
       "      <td>58807172</td>\n",
       "      <td>0</td>\n",
       "    </tr>\n",
       "    <tr>\n",
       "      <th>5360</th>\n",
       "      <td>4832</td>\n",
       "      <td>2017-07-03</td>\n",
       "      <td>Departure</td>\n",
       "      <td>1100000</td>\n",
       "      <td>27561</td>\n",
       "      <td>0</td>\n",
       "    </tr>\n",
       "    <tr>\n",
       "      <th>5372</th>\n",
       "      <td>1856</td>\n",
       "      <td>2017-08-25</td>\n",
       "      <td>Ballerina</td>\n",
       "      <td>30000000</td>\n",
       "      <td>48048527</td>\n",
       "      <td>0</td>\n",
       "    </tr>\n",
       "    <tr>\n",
       "      <th>5374</th>\n",
       "      <td>4237</td>\n",
       "      <td>2017-08-25</td>\n",
       "      <td>Polina danser sa vie</td>\n",
       "      <td>4000000</td>\n",
       "      <td>36630</td>\n",
       "      <td>0</td>\n",
       "    </tr>\n",
       "  </tbody>\n",
       "</table>\n",
       "<p>155 rows × 6 columns</p>\n",
       "</div>"
      ],
      "text/plain": [
       "      Rank Release_Date              Movie_Title  USD_Production_Budget  \\\n",
       "71    4310   1956-02-16                 Carousel                3380000   \n",
       "1579  5087   2001-02-11  Everything Put Together                 500000   \n",
       "1744  3695   2001-12-31                 The Hole                7500000   \n",
       "2155  4236   2003-12-31                  Nothing                4000000   \n",
       "2203  2513   2004-03-31                The Touch               20000000   \n",
       "...    ...          ...                      ...                    ...   \n",
       "5340  1506   2017-04-14      Queen of the Desert               36000000   \n",
       "5348  2225   2017-05-05        Chāi dàn zhuānjiā               23000000   \n",
       "5360  4832   2017-07-03                Departure                1100000   \n",
       "5372  1856   2017-08-25                Ballerina               30000000   \n",
       "5374  4237   2017-08-25     Polina danser sa vie                4000000   \n",
       "\n",
       "      USD_Worldwide_Gross  USD_Domestic_Gross  \n",
       "71                   3220                   0  \n",
       "1579                 7890                   0  \n",
       "1744             10834406                   0  \n",
       "2155                63180                   0  \n",
       "2203              5918742                   0  \n",
       "...                   ...                 ...  \n",
       "5340              1480089                   0  \n",
       "5348             58807172                   0  \n",
       "5360                27561                   0  \n",
       "5372             48048527                   0  \n",
       "5374                36630                   0  \n",
       "\n",
       "[155 rows x 6 columns]"
      ]
     },
     "execution_count": 57,
     "metadata": {},
     "output_type": "execute_result"
    }
   ],
   "source": [
    "#Films that worldwide gross than domestic\n",
    "data[(data.USD_Worldwide_Gross != 0) & (data.USD_Domestic_Gross == 0)]"
   ]
  },
  {
   "cell_type": "code",
   "execution_count": 62,
   "id": "e6d525a2",
   "metadata": {},
   "outputs": [
    {
     "name": "stdout",
     "output_type": "stream",
     "text": [
      "There are  155 international movies released\n"
     ]
    }
   ],
   "source": [
    "worldwide_released = data[(data.USD_Worldwide_Gross != 0) & (data.USD_Domestic_Gross == 0)]\n",
    "print('There are', f' {len(worldwide_released)} international movies released')"
   ]
  },
  {
   "cell_type": "code",
   "execution_count": null,
   "id": "e722f0b8",
   "metadata": {},
   "outputs": [],
   "source": []
  }
 ],
 "metadata": {
  "kernelspec": {
   "display_name": "Python 3 (ipykernel)",
   "language": "python",
   "name": "python3"
  },
  "language_info": {
   "codemirror_mode": {
    "name": "ipython",
    "version": 3
   },
   "file_extension": ".py",
   "mimetype": "text/x-python",
   "name": "python",
   "nbconvert_exporter": "python",
   "pygments_lexer": "ipython3",
   "version": "3.9.13"
  }
 },
 "nbformat": 4,
 "nbformat_minor": 5
}
